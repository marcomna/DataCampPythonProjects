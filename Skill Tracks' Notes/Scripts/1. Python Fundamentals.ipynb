{
 "cells": [
  {
   "cell_type": "markdown",
   "id": "bdb67c3a-5b5c-475d-bdbd-b153419a0686",
   "metadata": {},
   "source": [
    "# INTRODUCCIÓN A PYTHON"
   ]
  },
  {
   "cell_type": "markdown",
   "id": "1bc8ebe1-a545-4a71-aab8-efc7fb5f93c3",
   "metadata": {},
   "source": [
    "# PYTHON INTERMEDIO"
   ]
  },
  {
   "cell_type": "markdown",
   "id": "e7d42c63-a7c4-47fb-9848-e9ef8d098eb1",
   "metadata": {},
   "source": [
    "# TOOLBOX 1"
   ]
  },
  {
   "cell_type": "markdown",
   "id": "62fe101c-8e79-4b77-a0c7-724aca8b8349",
   "metadata": {},
   "source": [
    "# TOOLBOX 2"
   ]
  }
 ],
 "metadata": {
  "kernelspec": {
   "display_name": "Python 3",
   "language": "python",
   "name": "python3"
  },
  "language_info": {
   "codemirror_mode": {
    "name": "ipython",
    "version": 3
   },
   "file_extension": ".py",
   "mimetype": "text/x-python",
   "name": "python",
   "nbconvert_exporter": "python",
   "pygments_lexer": "ipython3",
   "version": "3.8.8"
  }
 },
 "nbformat": 4,
 "nbformat_minor": 5
}
